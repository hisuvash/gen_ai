{
 "cells": [
  {
   "cell_type": "code",
   "execution_count": 172,
   "metadata": {},
   "outputs": [],
   "source": [
    "import os"
   ]
  },
  {
   "cell_type": "code",
   "execution_count": 173,
   "metadata": {},
   "outputs": [],
   "source": [
    "import pandas as pd"
   ]
  },
  {
   "cell_type": "code",
   "execution_count": 174,
   "metadata": {},
   "outputs": [],
   "source": [
    "data=pd.read_csv(\"IMDB-Dataset.csv\")"
   ]
  },
  {
   "cell_type": "code",
   "execution_count": 175,
   "metadata": {},
   "outputs": [
    {
     "data": {
      "text/html": [
       "<div>\n",
       "<style scoped>\n",
       "    .dataframe tbody tr th:only-of-type {\n",
       "        vertical-align: middle;\n",
       "    }\n",
       "\n",
       "    .dataframe tbody tr th {\n",
       "        vertical-align: top;\n",
       "    }\n",
       "\n",
       "    .dataframe thead th {\n",
       "        text-align: right;\n",
       "    }\n",
       "</style>\n",
       "<table border=\"1\" class=\"dataframe\">\n",
       "  <thead>\n",
       "    <tr style=\"text-align: right;\">\n",
       "      <th></th>\n",
       "      <th>review</th>\n",
       "      <th>sentiment</th>\n",
       "    </tr>\n",
       "  </thead>\n",
       "  <tbody>\n",
       "    <tr>\n",
       "      <th>0</th>\n",
       "      <td>One of the other reviewers has mentioned that ...</td>\n",
       "      <td>positive</td>\n",
       "    </tr>\n",
       "    <tr>\n",
       "      <th>1</th>\n",
       "      <td>A wonderful little production. &lt;br /&gt;&lt;br /&gt;The...</td>\n",
       "      <td>positive</td>\n",
       "    </tr>\n",
       "    <tr>\n",
       "      <th>2</th>\n",
       "      <td>I thought this was a wonderful way to spend ti...</td>\n",
       "      <td>positive</td>\n",
       "    </tr>\n",
       "    <tr>\n",
       "      <th>3</th>\n",
       "      <td>Basically there's a family where a little boy ...</td>\n",
       "      <td>negative</td>\n",
       "    </tr>\n",
       "    <tr>\n",
       "      <th>4</th>\n",
       "      <td>Petter Mattei's \"Love in the Time of Money\" is...</td>\n",
       "      <td>positive</td>\n",
       "    </tr>\n",
       "  </tbody>\n",
       "</table>\n",
       "</div>"
      ],
      "text/plain": [
       "                                              review sentiment\n",
       "0  One of the other reviewers has mentioned that ...  positive\n",
       "1  A wonderful little production. <br /><br />The...  positive\n",
       "2  I thought this was a wonderful way to spend ti...  positive\n",
       "3  Basically there's a family where a little boy ...  negative\n",
       "4  Petter Mattei's \"Love in the Time of Money\" is...  positive"
      ]
     },
     "execution_count": 175,
     "metadata": {},
     "output_type": "execute_result"
    }
   ],
   "source": [
    "data.head()"
   ]
  },
  {
   "cell_type": "code",
   "execution_count": 176,
   "metadata": {},
   "outputs": [
    {
     "data": {
      "text/html": [
       "<div>\n",
       "<style scoped>\n",
       "    .dataframe tbody tr th:only-of-type {\n",
       "        vertical-align: middle;\n",
       "    }\n",
       "\n",
       "    .dataframe tbody tr th {\n",
       "        vertical-align: top;\n",
       "    }\n",
       "\n",
       "    .dataframe thead th {\n",
       "        text-align: right;\n",
       "    }\n",
       "</style>\n",
       "<table border=\"1\" class=\"dataframe\">\n",
       "  <thead>\n",
       "    <tr style=\"text-align: right;\">\n",
       "      <th></th>\n",
       "      <th>review</th>\n",
       "      <th>sentiment</th>\n",
       "    </tr>\n",
       "  </thead>\n",
       "  <tbody>\n",
       "    <tr>\n",
       "      <th>22164</th>\n",
       "      <td>In Truffaut book-length interview with Hitchco...</td>\n",
       "      <td>positive</td>\n",
       "    </tr>\n",
       "    <tr>\n",
       "      <th>44651</th>\n",
       "      <td>I showed this to my 6th grade class about 17 y...</td>\n",
       "      <td>positive</td>\n",
       "    </tr>\n",
       "    <tr>\n",
       "      <th>32121</th>\n",
       "      <td>If you are one of the people who finds \"Accord...</td>\n",
       "      <td>negative</td>\n",
       "    </tr>\n",
       "    <tr>\n",
       "      <th>49238</th>\n",
       "      <td>The idea is a very smart title the film has a ...</td>\n",
       "      <td>positive</td>\n",
       "    </tr>\n",
       "    <tr>\n",
       "      <th>19811</th>\n",
       "      <td>Since growing up in Czechoslovakia I was follo...</td>\n",
       "      <td>positive</td>\n",
       "    </tr>\n",
       "  </tbody>\n",
       "</table>\n",
       "</div>"
      ],
      "text/plain": [
       "                                                  review sentiment\n",
       "22164  In Truffaut book-length interview with Hitchco...  positive\n",
       "44651  I showed this to my 6th grade class about 17 y...  positive\n",
       "32121  If you are one of the people who finds \"Accord...  negative\n",
       "49238  The idea is a very smart title the film has a ...  positive\n",
       "19811  Since growing up in Czechoslovakia I was follo...  positive"
      ]
     },
     "execution_count": 176,
     "metadata": {},
     "output_type": "execute_result"
    }
   ],
   "source": [
    "data.sample(5)"
   ]
  },
  {
   "cell_type": "code",
   "execution_count": 177,
   "metadata": {},
   "outputs": [
    {
     "data": {
      "text/plain": [
       "0        One of the other reviewers has mentioned that ...\n",
       "1        A wonderful little production. <br /><br />The...\n",
       "2        I thought this was a wonderful way to spend ti...\n",
       "3        Basically there's a family where a little boy ...\n",
       "4        Petter Mattei's \"Love in the Time of Money\" is...\n",
       "                               ...                        \n",
       "49995    I thought this movie did a down right good job...\n",
       "49996    Bad plot, bad dialogue, bad acting, idiotic di...\n",
       "49997    I am a Catholic taught in parochial elementary...\n",
       "49998    I'm going to have to disagree with the previou...\n",
       "49999    No one expects the Star Trek movies to be high...\n",
       "Name: review, Length: 50000, dtype: object"
      ]
     },
     "execution_count": 177,
     "metadata": {},
     "output_type": "execute_result"
    }
   ],
   "source": [
    "data[\"review\"]"
   ]
  },
  {
   "cell_type": "code",
   "execution_count": 178,
   "metadata": {},
   "outputs": [
    {
     "data": {
      "text/plain": [
       "'Probably my all-time favorite movie, a story of selflessness, sacrifice and dedication to a noble cause, but it\\'s not preachy or boring. It just never gets old, despite my having seen it some 15 or more times in the last 25 years. Paul Lukas\\' performance brings tears to my eyes, and Bette Davis, in one of her very few truly sympathetic roles, is a delight. The kids are, as grandma says, more like \"dressed-up midgets\" than children, but that only makes them more fun to watch. And the mother\\'s slow awakening to what\\'s happening in the world and under her own roof is believable and startling. If I had a dozen thumbs, they\\'d all be \"up\" for this movie.'"
      ]
     },
     "execution_count": 178,
     "metadata": {},
     "output_type": "execute_result"
    }
   ],
   "source": [
    "data[\"review\"][5]"
   ]
  },
  {
   "cell_type": "code",
   "execution_count": 179,
   "metadata": {},
   "outputs": [
    {
     "data": {
      "text/plain": [
       "(50000, 2)"
      ]
     },
     "execution_count": 179,
     "metadata": {},
     "output_type": "execute_result"
    }
   ],
   "source": [
    "data.shape"
   ]
  },
  {
   "cell_type": "code",
   "execution_count": 180,
   "metadata": {},
   "outputs": [],
   "source": [
    "data[\"review\"] = data[\"review\"].str.lower()"
   ]
  },
  {
   "cell_type": "code",
   "execution_count": 181,
   "metadata": {},
   "outputs": [],
   "source": [
    "import re"
   ]
  },
  {
   "cell_type": "code",
   "execution_count": 182,
   "metadata": {},
   "outputs": [],
   "source": [
    "def remove_html_tags(text):\n",
    "    pattern = re.compile(r'<.*?>')\n",
    "    return pattern.sub(\"\",text)"
   ]
  },
  {
   "cell_type": "code",
   "execution_count": 183,
   "metadata": {},
   "outputs": [
    {
     "data": {
      "text/html": [
       "<div>\n",
       "<style scoped>\n",
       "    .dataframe tbody tr th:only-of-type {\n",
       "        vertical-align: middle;\n",
       "    }\n",
       "\n",
       "    .dataframe tbody tr th {\n",
       "        vertical-align: top;\n",
       "    }\n",
       "\n",
       "    .dataframe thead th {\n",
       "        text-align: right;\n",
       "    }\n",
       "</style>\n",
       "<table border=\"1\" class=\"dataframe\">\n",
       "  <thead>\n",
       "    <tr style=\"text-align: right;\">\n",
       "      <th></th>\n",
       "      <th>review</th>\n",
       "      <th>sentiment</th>\n",
       "    </tr>\n",
       "  </thead>\n",
       "  <tbody>\n",
       "    <tr>\n",
       "      <th>0</th>\n",
       "      <td>one of the other reviewers has mentioned that ...</td>\n",
       "      <td>positive</td>\n",
       "    </tr>\n",
       "  </tbody>\n",
       "</table>\n",
       "</div>"
      ],
      "text/plain": [
       "                                              review sentiment\n",
       "0  one of the other reviewers has mentioned that ...  positive"
      ]
     },
     "execution_count": 183,
     "metadata": {},
     "output_type": "execute_result"
    }
   ],
   "source": [
    "data.head(1)"
   ]
  },
  {
   "cell_type": "code",
   "execution_count": 184,
   "metadata": {},
   "outputs": [
    {
     "data": {
      "text/plain": [
       "'a wonderful little production. the filming technique is very unassuming- very old-time-bbc fashion and gives a comforting, and sometimes discomforting, sense of realism to the entire piece. the actors are extremely well chosen- michael sheen not only \"has got all the polari\" but he has all the voices down pat too! you can truly see the seamless editing guided by the references to williams\\' diary entries, not only is it well worth the watching but it is a terrificly written and performed piece. a masterful production about one of the great master\\'s of comedy and his life. the realism really comes home with the little things: the fantasy of the guard which, rather than use the traditional \\'dream\\' techniques remains solid then disappears. it plays on our knowledge and our senses, particularly with the scenes concerning orton and halliwell and the sets (particularly of their flat with halliwell\\'s murals decorating every surface) are terribly well done.'"
      ]
     },
     "execution_count": 184,
     "metadata": {},
     "output_type": "execute_result"
    }
   ],
   "source": [
    "remove_html_tags(data[\"review\"][1])"
   ]
  },
  {
   "cell_type": "code",
   "execution_count": 185,
   "metadata": {},
   "outputs": [],
   "source": [
    "data = data[\"review\"].apply(remove_html_tags)"
   ]
  },
  {
   "cell_type": "code",
   "execution_count": 186,
   "metadata": {},
   "outputs": [
    {
     "data": {
      "text/plain": [
       "0        one of the other reviewers has mentioned that ...\n",
       "1        a wonderful little production. the filming tec...\n",
       "2        i thought this was a wonderful way to spend ti...\n",
       "3        basically there's a family where a little boy ...\n",
       "4        petter mattei's \"love in the time of money\" is...\n",
       "                               ...                        \n",
       "49995    i thought this movie did a down right good job...\n",
       "49996    bad plot, bad dialogue, bad acting, idiotic di...\n",
       "49997    i am a catholic taught in parochial elementary...\n",
       "49998    i'm going to have to disagree with the previou...\n",
       "49999    no one expects the star trek movies to be high...\n",
       "Name: review, Length: 50000, dtype: object"
      ]
     },
     "execution_count": 186,
     "metadata": {},
     "output_type": "execute_result"
    }
   ],
   "source": [
    "data"
   ]
  },
  {
   "cell_type": "code",
   "execution_count": 187,
   "metadata": {},
   "outputs": [
    {
     "data": {
      "text/plain": [
       "dtype('O')"
      ]
     },
     "execution_count": 187,
     "metadata": {},
     "output_type": "execute_result"
    }
   ],
   "source": [
    "data.dtype"
   ]
  },
  {
   "cell_type": "code",
   "execution_count": 188,
   "metadata": {},
   "outputs": [],
   "source": [
    "data=pd.DataFrame(data)"
   ]
  },
  {
   "cell_type": "code",
   "execution_count": 189,
   "metadata": {},
   "outputs": [],
   "source": [
    "def remove_url(text):\n",
    "    pattern = re.compile(r'https?://\\S+|www\\.\\S+')\n",
    "    return pattern.sub(\"\",text)\n",
    "\n",
    "def remove_url(text):\n",
    "    pattern=re.compile(r'https?://\\S+|www\\.\\S+')\n",
    "    return pattern.sub(\"\",text)"
   ]
  },
  {
   "cell_type": "code",
   "execution_count": 190,
   "metadata": {},
   "outputs": [],
   "source": [
    "text1= \"My website https://www.cnn.com\"\n",
    "text2= \"My news portal http://www.times.com\""
   ]
  },
  {
   "cell_type": "code",
   "execution_count": 191,
   "metadata": {},
   "outputs": [],
   "source": [
    "# remove_url(text1)"
   ]
  },
  {
   "cell_type": "code",
   "execution_count": 192,
   "metadata": {},
   "outputs": [],
   "source": [
    "data[\"review\"]=data[\"review\"].apply(remove_url)"
   ]
  },
  {
   "cell_type": "code",
   "execution_count": 193,
   "metadata": {},
   "outputs": [],
   "source": [
    "import string"
   ]
  },
  {
   "cell_type": "code",
   "execution_count": 194,
   "metadata": {},
   "outputs": [],
   "source": [
    "exclude_punc= string.punctuation"
   ]
  },
  {
   "cell_type": "code",
   "execution_count": 195,
   "metadata": {},
   "outputs": [],
   "source": [
    "def remove_punc(text):\n",
    "    for char in exclude_punc:\n",
    "        text=text.replace(char,\"\")\n",
    "    return text"
   ]
  },
  {
   "cell_type": "code",
   "execution_count": 196,
   "metadata": {},
   "outputs": [],
   "source": [
    "text = \"eqwtvz'xd&,asdf?\""
   ]
  },
  {
   "cell_type": "code",
   "execution_count": 197,
   "metadata": {},
   "outputs": [
    {
     "data": {
      "text/plain": [
       "'eqwtvzxdasdf'"
      ]
     },
     "execution_count": 197,
     "metadata": {},
     "output_type": "execute_result"
    }
   ],
   "source": [
    "remove_punc(text)\n"
   ]
  },
  {
   "cell_type": "code",
   "execution_count": 198,
   "metadata": {},
   "outputs": [],
   "source": [
    "def remove_punc_enhanced(text):\n",
    "    return text.translate(str.maketrans(\"\",\"\",exclude_punc))"
   ]
  },
  {
   "cell_type": "code",
   "execution_count": 199,
   "metadata": {},
   "outputs": [
    {
     "data": {
      "text/plain": [
       "'eqwtvzxdasdf'"
      ]
     },
     "execution_count": 199,
     "metadata": {},
     "output_type": "execute_result"
    }
   ],
   "source": [
    "remove_punc_enhanced(text)"
   ]
  },
  {
   "cell_type": "code",
   "execution_count": 200,
   "metadata": {},
   "outputs": [],
   "source": [
    "data[\"review\"] = data[\"review\"].apply(remove_punc_enhanced)"
   ]
  },
  {
   "cell_type": "code",
   "execution_count": 202,
   "metadata": {},
   "outputs": [
    {
     "data": {
      "text/plain": [
       "['review']"
      ]
     },
     "execution_count": 202,
     "metadata": {},
     "output_type": "execute_result"
    }
   ],
   "source": [
    "data.columns.values.tolist()"
   ]
  },
  {
   "cell_type": "code",
   "execution_count": 211,
   "metadata": {},
   "outputs": [],
   "source": [
    "chat_words={\n",
    "    \"B4\":\"Before\",\n",
    "    \"G2G\": \"Got to go\"\n",
    "}\n",
    "\n",
    "text = \"G2G B4 dad arrives\""
   ]
  },
  {
   "cell_type": "code",
   "execution_count": 212,
   "metadata": {},
   "outputs": [],
   "source": [
    "def chat_conversation(text):\n",
    "    new_text=[]\n",
    "    for w in text.split():\n",
    "        if w.upper() in chat_words:\n",
    "            new_text.append(chat_words[w.upper()])\n",
    "        else:\n",
    "            new_text.append(w)\n",
    "    return \" \".join(new_text)"
   ]
  },
  {
   "cell_type": "code",
   "execution_count": 213,
   "metadata": {},
   "outputs": [
    {
     "data": {
      "text/plain": [
       "'Got to go Before dad arrives'"
      ]
     },
     "execution_count": 213,
     "metadata": {},
     "output_type": "execute_result"
    }
   ],
   "source": [
    "chat_conversation(text)"
   ]
  },
  {
   "cell_type": "code",
   "execution_count": 237,
   "metadata": {},
   "outputs": [],
   "source": [
    "text = \"This is my profle. Do not mses with my pictur you ill be jailed\""
   ]
  },
  {
   "cell_type": "code",
   "execution_count": 238,
   "metadata": {},
   "outputs": [],
   "source": [
    "from textblob import TextBlob\n"
   ]
  },
  {
   "cell_type": "code",
   "execution_count": 239,
   "metadata": {},
   "outputs": [],
   "source": [
    "txtblob = TextBlob(text)"
   ]
  },
  {
   "cell_type": "code",
   "execution_count": 240,
   "metadata": {},
   "outputs": [
    {
     "data": {
      "text/plain": [
       "TextBlob(\"His is my profile. To not mess with my picture you ill be jailed\")"
      ]
     },
     "execution_count": 240,
     "metadata": {},
     "output_type": "execute_result"
    }
   ],
   "source": [
    "txtblob.correct()"
   ]
  },
  {
   "cell_type": "code",
   "execution_count": 244,
   "metadata": {},
   "outputs": [
    {
     "name": "stderr",
     "output_type": "stream",
     "text": [
      "[nltk_data] Downloading package stopwords to\n",
      "[nltk_data]     C:\\Users\\mesuv\\AppData\\Roaming\\nltk_data...\n",
      "[nltk_data]   Unzipping corpora\\stopwords.zip.\n"
     ]
    },
    {
     "data": {
      "text/plain": [
       "True"
      ]
     },
     "execution_count": 244,
     "metadata": {},
     "output_type": "execute_result"
    }
   ],
   "source": [
    "import nltk\n",
    "nltk.download('stopwords')"
   ]
  },
  {
   "cell_type": "code",
   "execution_count": 242,
   "metadata": {},
   "outputs": [],
   "source": [
    "from nltk.corpus import stopwords"
   ]
  },
  {
   "cell_type": "code",
   "execution_count": 250,
   "metadata": {},
   "outputs": [
    {
     "data": {
      "text/plain": [
       "'भएको'"
      ]
     },
     "execution_count": 250,
     "metadata": {},
     "output_type": "execute_result"
    }
   ],
   "source": [
    "stopwords.words(\"Nepali\")[5]"
   ]
  },
  {
   "cell_type": "code",
   "execution_count": 254,
   "metadata": {},
   "outputs": [
    {
     "data": {
      "text/plain": [
       "'our'"
      ]
     },
     "execution_count": 254,
     "metadata": {},
     "output_type": "execute_result"
    }
   ],
   "source": [
    "stopwords.words(\"english\")[5]"
   ]
  },
  {
   "cell_type": "code",
   "execution_count": 278,
   "metadata": {},
   "outputs": [],
   "source": [
    "def remove_stopwords(text):\n",
    "    new_text=[]\n",
    "    for word in text.split():\n",
    "        if word in stopwords.words(\"english\"):\n",
    "            new_text.append(\"\")\n",
    "        else:\n",
    "            new_text.append(word)\n",
    "    return \" \".join(new_text).replace(\"  \", \" \")"
   ]
  },
  {
   "cell_type": "code",
   "execution_count": 279,
   "metadata": {},
   "outputs": [],
   "source": [
    "txt = \"i am a student, I am learning nltk and I want to know its importace in our life\""
   ]
  },
  {
   "cell_type": "code",
   "execution_count": 280,
   "metadata": {},
   "outputs": [
    {
     "data": {
      "text/plain": [
       "'  student, I learning nltk I want know importace  life'"
      ]
     },
     "execution_count": 280,
     "metadata": {},
     "output_type": "execute_result"
    }
   ],
   "source": [
    "remove_stopwords(txt)"
   ]
  },
  {
   "cell_type": "markdown",
   "metadata": {},
   "source": [
    "# Emoji"
   ]
  },
  {
   "cell_type": "code",
   "execution_count": 282,
   "metadata": {},
   "outputs": [],
   "source": [
    "import emoji"
   ]
  },
  {
   "cell_type": "code",
   "execution_count": 283,
   "metadata": {},
   "outputs": [],
   "source": [
    "text = \"How do you feel?: 😄😀🙂😕☹️😴❓\""
   ]
  },
  {
   "cell_type": "code",
   "execution_count": 285,
   "metadata": {},
   "outputs": [],
   "source": [
    "def remove_emoji(text):\n",
    "    clean_text = emoji.demojize(text)\n",
    "    return clean_text"
   ]
  },
  {
   "cell_type": "code",
   "execution_count": 286,
   "metadata": {},
   "outputs": [
    {
     "data": {
      "text/plain": [
       "'How do you feel?: :grinning_face_with_smiling_eyes::grinning_face::slightly_smiling_face::confused_face::frowning_face::sleeping_face::red_question_mark:'"
      ]
     },
     "execution_count": 286,
     "metadata": {},
     "output_type": "execute_result"
    }
   ],
   "source": [
    "remove_emoji(text)"
   ]
  },
  {
   "cell_type": "markdown",
   "metadata": {},
   "source": [
    "# tokenization"
   ]
  },
  {
   "cell_type": "code",
   "execution_count": 287,
   "metadata": {},
   "outputs": [],
   "source": [
    "text= \"I am Suvash Sharma. I am interested in machine learning and artificial intelligence\""
   ]
  },
  {
   "cell_type": "code",
   "execution_count": 288,
   "metadata": {},
   "outputs": [
    {
     "data": {
      "text/plain": [
       "['I',\n",
       " 'am',\n",
       " 'Suvash',\n",
       " 'Sharma.',\n",
       " 'I',\n",
       " 'am',\n",
       " 'interested',\n",
       " 'in',\n",
       " 'machine',\n",
       " 'learning',\n",
       " 'and',\n",
       " 'artificial',\n",
       " 'intelligence']"
      ]
     },
     "execution_count": 288,
     "metadata": {},
     "output_type": "execute_result"
    }
   ],
   "source": [
    "text.split()"
   ]
  },
  {
   "cell_type": "code",
   "execution_count": 297,
   "metadata": {},
   "outputs": [
    {
     "data": {
      "text/plain": [
       "['I am Suvash Sharma',\n",
       " ' I am interested in machine learning and artificial intelligence',\n",
       " ' I live in Toronto',\n",
       " ' I am from Nepal']"
      ]
     },
     "execution_count": 297,
     "metadata": {},
     "output_type": "execute_result"
    }
   ],
   "source": [
    "text1= \"I am Suvash Sharma. I am interested in machine learning and artificial intelligence. I live in Toronto. I am from Nepal\"\n",
    "text1.split(\".\")"
   ]
  },
  {
   "cell_type": "code",
   "execution_count": 298,
   "metadata": {},
   "outputs": [],
   "source": [
    "text2= \"I am a Nepali!\""
   ]
  },
  {
   "cell_type": "code",
   "execution_count": 299,
   "metadata": {},
   "outputs": [
    {
     "data": {
      "text/plain": [
       "['I', 'am', 'a', 'Nepali!']"
      ]
     },
     "execution_count": 299,
     "metadata": {},
     "output_type": "execute_result"
    }
   ],
   "source": [
    "text2.split()"
   ]
  },
  {
   "cell_type": "code",
   "execution_count": 300,
   "metadata": {},
   "outputs": [],
   "source": [
    "text3=\" where should i go? i have 3 days holidays, can you tell where should I go? Any suggestions please?\""
   ]
  },
  {
   "cell_type": "code",
   "execution_count": 301,
   "metadata": {},
   "outputs": [
    {
     "name": "stderr",
     "output_type": "stream",
     "text": [
      "<>:2: SyntaxWarning: invalid escape sequence '\\w'\n",
      "<>:2: SyntaxWarning: invalid escape sequence '\\w'\n",
      "C:\\Users\\mesuv\\AppData\\Local\\Temp\\ipykernel_27308\\627232751.py:2: SyntaxWarning: invalid escape sequence '\\w'\n",
      "  re.findall(\"[\\w]+\", text2) #using regex to create word tokens\n"
     ]
    },
    {
     "data": {
      "text/plain": [
       "['I', 'am', 'a', 'Nepali']"
      ]
     },
     "execution_count": 301,
     "metadata": {},
     "output_type": "execute_result"
    }
   ],
   "source": [
    "import re\n",
    "re.findall(\"[\\w]+\", text2) #using regex to create word tokens"
   ]
  },
  {
   "cell_type": "code",
   "execution_count": 302,
   "metadata": {},
   "outputs": [],
   "source": [
    "import nltk"
   ]
  },
  {
   "cell_type": "code",
   "execution_count": 303,
   "metadata": {},
   "outputs": [],
   "source": [
    "from nltk.tokenize import word_tokenize, sent_tokenize"
   ]
  },
  {
   "cell_type": "code",
   "execution_count": 304,
   "metadata": {},
   "outputs": [],
   "source": [
    "text = \"I am going to cn tower this evening\""
   ]
  },
  {
   "cell_type": "code",
   "execution_count": 305,
   "metadata": {},
   "outputs": [
    {
     "data": {
      "text/plain": [
       "['I', 'am', 'going', 'to', 'cn', 'tower', 'this', 'evening']"
      ]
     },
     "execution_count": 305,
     "metadata": {},
     "output_type": "execute_result"
    }
   ],
   "source": [
    "word_tokenize(text)"
   ]
  },
  {
   "cell_type": "code",
   "execution_count": 306,
   "metadata": {},
   "outputs": [
    {
     "data": {
      "text/plain": [
       "['I',\n",
       " 'am',\n",
       " 'going',\n",
       " 'to',\n",
       " 'cn',\n",
       " 'tower',\n",
       " 'this',\n",
       " 'evening',\n",
       " '!',\n",
       " '!',\n",
       " '!',\n",
       " '!',\n",
       " '!']"
      ]
     },
     "execution_count": 306,
     "metadata": {},
     "output_type": "execute_result"
    }
   ],
   "source": [
    "text = \"I am going to cn tower this evening!!!!!\"\n",
    "word_tokenize(text)"
   ]
  },
  {
   "cell_type": "code",
   "execution_count": 307,
   "metadata": {},
   "outputs": [],
   "source": [
    "big_text = '''Volleyball is a team sport in which two teams of six players are separated by a net. Each team tries to score points by grounding a ball on the other team's court under organized rules.[1] It has been a part of the official program of the Summer Olympic Games since Tokyo 1964. Beach volleyball was introduced to the programme at the Atlanta 1996 Summer Olympics. The adapted version of volleyball at the Summer Paralympic Games is sitting volleyball.\n",
    "\n",
    "The complete set of rules is extensive,[2] but play essentially proceeds as follows: a player on one of the teams begins a 'rally' by serving the ball (tossing or releasing it and then hitting it with a hand or arm), from behind the back boundary line of the court, over the net, and into the receiving team's court.[3] The receiving team must not let the ball be grounded within their court. The team may touch the ball up to three times to return the ball to the other side of the court, but individual players may not touch the ball twice consecutively.[3] Typically, the first two touches are used to set up for an attack. An attack is an attempt to direct the ball back over the net in such a way that the team receiving the ball is unable to pass the ball and continue the rally, thus, losing the point. The team that wins the rally is awarded a point and serves the ball to start the next rally. A few of the most common faults include:\n",
    "\n",
    "causing the ball to touch the ground or floor outside the opponents' court or without first passing over the net;\n",
    "catching and throwing the ball;\n",
    "double hit: two consecutive contacts with the ball made by the same player;\n",
    "four consecutive contacts with the ball made by the same team;\n",
    "net foul: touching the net during play;\n",
    "foot fault: the foot crosses over the boundary line when serving or under the net when a front row player is trying to keep the ball in play.\n",
    "The ball is usually played with the hands or arms, but players can legally strike or push (short contact) the ball with any part of the body.[4]\n",
    "\n",
    "A number of consistent techniques have evolved in volleyball, including spiking and blocking (because these plays are made above the top of the net, the vertical jump is an athletic skill emphasized in the sport) as well as passing, setting, specialized player positions, and offensive and defensive structures.[5]'''"
   ]
  },
  {
   "cell_type": "code",
   "execution_count": 308,
   "metadata": {},
   "outputs": [
    {
     "data": {
      "text/plain": [
       "['Volleyball is a team sport in which two teams of six players are separated by a net.',\n",
       " \"Each team tries to score points by grounding a ball on the other team's court under organized rules.\",\n",
       " '[1] It has been a part of the official program of the Summer Olympic Games since Tokyo 1964.',\n",
       " 'Beach volleyball was introduced to the programme at the Atlanta 1996 Summer Olympics.',\n",
       " 'The adapted version of volleyball at the Summer Paralympic Games is sitting volleyball.',\n",
       " \"The complete set of rules is extensive,[2] but play essentially proceeds as follows: a player on one of the teams begins a 'rally' by serving the ball (tossing or releasing it and then hitting it with a hand or arm), from behind the back boundary line of the court, over the net, and into the receiving team's court.\",\n",
       " '[3] The receiving team must not let the ball be grounded within their court.',\n",
       " 'The team may touch the ball up to three times to return the ball to the other side of the court, but individual players may not touch the ball twice consecutively.',\n",
       " '[3] Typically, the first two touches are used to set up for an attack.',\n",
       " 'An attack is an attempt to direct the ball back over the net in such a way that the team receiving the ball is unable to pass the ball and continue the rally, thus, losing the point.',\n",
       " 'The team that wins the rally is awarded a point and serves the ball to start the next rally.',\n",
       " \"A few of the most common faults include:\\n\\ncausing the ball to touch the ground or floor outside the opponents' court or without first passing over the net;\\ncatching and throwing the ball;\\ndouble hit: two consecutive contacts with the ball made by the same player;\\nfour consecutive contacts with the ball made by the same team;\\nnet foul: touching the net during play;\\nfoot fault: the foot crosses over the boundary line when serving or under the net when a front row player is trying to keep the ball in play.\",\n",
       " 'The ball is usually played with the hands or arms, but players can legally strike or push (short contact) the ball with any part of the body.',\n",
       " '[4]\\n\\nA number of consistent techniques have evolved in volleyball, including spiking and blocking (because these plays are made above the top of the net, the vertical jump is an athletic skill emphasized in the sport) as well as passing, setting, specialized player positions, and offensive and defensive structures.',\n",
       " '[5]']"
      ]
     },
     "execution_count": 308,
     "metadata": {},
     "output_type": "execute_result"
    }
   ],
   "source": [
    "sent_tokenize(big_text) # converts to contextful sentence"
   ]
  },
  {
   "cell_type": "code",
   "execution_count": 309,
   "metadata": {},
   "outputs": [],
   "source": [
    "import spacy"
   ]
  },
  {
   "cell_type": "code",
   "execution_count": 310,
   "metadata": {},
   "outputs": [],
   "source": [
    "nlp= spacy.load(\"en_core_web_sm\")"
   ]
  },
  {
   "cell_type": "code",
   "execution_count": 320,
   "metadata": {},
   "outputs": [],
   "source": [
    "def tokenize_text(txt):\n",
    "    doc = nlp(txt)\n",
    "    tokens = [token.text for token in doc]\n",
    "    return tokens"
   ]
  },
  {
   "cell_type": "code",
   "execution_count": 322,
   "metadata": {},
   "outputs": [],
   "source": [
    "tokens=tokenize_text(big_text)"
   ]
  },
  {
   "cell_type": "code",
   "execution_count": 323,
   "metadata": {},
   "outputs": [
    {
     "name": "stdout",
     "output_type": "stream",
     "text": [
      "Volleyball\n",
      "is\n",
      "a\n",
      "team\n",
      "sport\n",
      "in\n",
      "which\n",
      "two\n",
      "teams\n",
      "of\n",
      "six\n",
      "players\n",
      "are\n",
      "separated\n",
      "by\n",
      "a\n",
      "net\n",
      ".\n",
      "Each\n",
      "team\n",
      "tries\n",
      "to\n",
      "score\n",
      "points\n",
      "by\n",
      "grounding\n",
      "a\n",
      "ball\n",
      "on\n",
      "the\n",
      "other\n",
      "team\n",
      "'s\n",
      "court\n",
      "under\n",
      "organized\n",
      "rules.[1\n",
      "]\n",
      "It\n",
      "has\n",
      "been\n",
      "a\n",
      "part\n",
      "of\n",
      "the\n",
      "official\n",
      "program\n",
      "of\n",
      "the\n",
      "Summer\n",
      "Olympic\n",
      "Games\n",
      "since\n",
      "Tokyo\n",
      "1964\n",
      ".\n",
      "Beach\n",
      "volleyball\n",
      "was\n",
      "introduced\n",
      "to\n",
      "the\n",
      "programme\n",
      "at\n",
      "the\n",
      "Atlanta\n",
      "1996\n",
      "Summer\n",
      "Olympics\n",
      ".\n",
      "The\n",
      "adapted\n",
      "version\n",
      "of\n",
      "volleyball\n",
      "at\n",
      "the\n",
      "Summer\n",
      "Paralympic\n",
      "Games\n",
      "is\n",
      "sitting\n",
      "volleyball\n",
      ".\n",
      "\n",
      "\n",
      "\n",
      "The\n",
      "complete\n",
      "set\n",
      "of\n",
      "rules\n",
      "is\n",
      "extensive,[2\n",
      "]\n",
      "but\n",
      "play\n",
      "essentially\n",
      "proceeds\n",
      "as\n",
      "follows\n",
      ":\n",
      "a\n",
      "player\n",
      "on\n",
      "one\n",
      "of\n",
      "the\n",
      "teams\n",
      "begins\n",
      "a\n",
      "'\n",
      "rally\n",
      "'\n",
      "by\n",
      "serving\n",
      "the\n",
      "ball\n",
      "(\n",
      "tossing\n",
      "or\n",
      "releasing\n",
      "it\n",
      "and\n",
      "then\n",
      "hitting\n",
      "it\n",
      "with\n",
      "a\n",
      "hand\n",
      "or\n",
      "arm\n",
      ")\n",
      ",\n",
      "from\n",
      "behind\n",
      "the\n",
      "back\n",
      "boundary\n",
      "line\n",
      "of\n",
      "the\n",
      "court\n",
      ",\n",
      "over\n",
      "the\n",
      "net\n",
      ",\n",
      "and\n",
      "into\n",
      "the\n",
      "receiving\n",
      "team\n",
      "'s\n",
      "court.[3\n",
      "]\n",
      "The\n",
      "receiving\n",
      "team\n",
      "must\n",
      "not\n",
      "let\n",
      "the\n",
      "ball\n",
      "be\n",
      "grounded\n",
      "within\n",
      "their\n",
      "court\n",
      ".\n",
      "The\n",
      "team\n",
      "may\n",
      "touch\n",
      "the\n",
      "ball\n",
      "up\n",
      "to\n",
      "three\n",
      "times\n",
      "to\n",
      "return\n",
      "the\n",
      "ball\n",
      "to\n",
      "the\n",
      "other\n",
      "side\n",
      "of\n",
      "the\n",
      "court\n",
      ",\n",
      "but\n",
      "individual\n",
      "players\n",
      "may\n",
      "not\n",
      "touch\n",
      "the\n",
      "ball\n",
      "twice\n",
      "consecutively.[3\n",
      "]\n",
      "Typically\n",
      ",\n",
      "the\n",
      "first\n",
      "two\n",
      "touches\n",
      "are\n",
      "used\n",
      "to\n",
      "set\n",
      "up\n",
      "for\n",
      "an\n",
      "attack\n",
      ".\n",
      "An\n",
      "attack\n",
      "is\n",
      "an\n",
      "attempt\n",
      "to\n",
      "direct\n",
      "the\n",
      "ball\n",
      "back\n",
      "over\n",
      "the\n",
      "net\n",
      "in\n",
      "such\n",
      "a\n",
      "way\n",
      "that\n",
      "the\n",
      "team\n",
      "receiving\n",
      "the\n",
      "ball\n",
      "is\n",
      "unable\n",
      "to\n",
      "pass\n",
      "the\n",
      "ball\n",
      "and\n",
      "continue\n",
      "the\n",
      "rally\n",
      ",\n",
      "thus\n",
      ",\n",
      "losing\n",
      "the\n",
      "point\n",
      ".\n",
      "The\n",
      "team\n",
      "that\n",
      "wins\n",
      "the\n",
      "rally\n",
      "is\n",
      "awarded\n",
      "a\n",
      "point\n",
      "and\n",
      "serves\n",
      "the\n",
      "ball\n",
      "to\n",
      "start\n",
      "the\n",
      "next\n",
      "rally\n",
      ".\n",
      "A\n",
      "few\n",
      "of\n",
      "the\n",
      "most\n",
      "common\n",
      "faults\n",
      "include\n",
      ":\n",
      "\n",
      "\n",
      "\n",
      "causing\n",
      "the\n",
      "ball\n",
      "to\n",
      "touch\n",
      "the\n",
      "ground\n",
      "or\n",
      "floor\n",
      "outside\n",
      "the\n",
      "opponents\n",
      "'\n",
      "court\n",
      "or\n",
      "without\n",
      "first\n",
      "passing\n",
      "over\n",
      "the\n",
      "net\n",
      ";\n",
      "\n",
      "\n",
      "catching\n",
      "and\n",
      "throwing\n",
      "the\n",
      "ball\n",
      ";\n",
      "\n",
      "\n",
      "double\n",
      "hit\n",
      ":\n",
      "two\n",
      "consecutive\n",
      "contacts\n",
      "with\n",
      "the\n",
      "ball\n",
      "made\n",
      "by\n",
      "the\n",
      "same\n",
      "player\n",
      ";\n",
      "\n",
      "\n",
      "four\n",
      "consecutive\n",
      "contacts\n",
      "with\n",
      "the\n",
      "ball\n",
      "made\n",
      "by\n",
      "the\n",
      "same\n",
      "team\n",
      ";\n",
      "\n",
      "\n",
      "net\n",
      "foul\n",
      ":\n",
      "touching\n",
      "the\n",
      "net\n",
      "during\n",
      "play\n",
      ";\n",
      "\n",
      "\n",
      "foot\n",
      "fault\n",
      ":\n",
      "the\n",
      "foot\n",
      "crosses\n",
      "over\n",
      "the\n",
      "boundary\n",
      "line\n",
      "when\n",
      "serving\n",
      "or\n",
      "under\n",
      "the\n",
      "net\n",
      "when\n",
      "a\n",
      "front\n",
      "row\n",
      "player\n",
      "is\n",
      "trying\n",
      "to\n",
      "keep\n",
      "the\n",
      "ball\n",
      "in\n",
      "play\n",
      ".\n",
      "\n",
      "\n",
      "The\n",
      "ball\n",
      "is\n",
      "usually\n",
      "played\n",
      "with\n",
      "the\n",
      "hands\n",
      "or\n",
      "arms\n",
      ",\n",
      "but\n",
      "players\n",
      "can\n",
      "legally\n",
      "strike\n",
      "or\n",
      "push\n",
      "(\n",
      "short\n",
      "contact\n",
      ")\n",
      "the\n",
      "ball\n",
      "with\n",
      "any\n",
      "part\n",
      "of\n",
      "the\n",
      "body.[4\n",
      "]\n",
      "\n",
      "\n",
      "\n",
      "A\n",
      "number\n",
      "of\n",
      "consistent\n",
      "techniques\n",
      "have\n",
      "evolved\n",
      "in\n",
      "volleyball\n",
      ",\n",
      "including\n",
      "spiking\n",
      "and\n",
      "blocking\n",
      "(\n",
      "because\n",
      "these\n",
      "plays\n",
      "are\n",
      "made\n",
      "above\n",
      "the\n",
      "top\n",
      "of\n",
      "the\n",
      "net\n",
      ",\n",
      "the\n",
      "vertical\n",
      "jump\n",
      "is\n",
      "an\n",
      "athletic\n",
      "skill\n",
      "emphasized\n",
      "in\n",
      "the\n",
      "sport\n",
      ")\n",
      "as\n",
      "well\n",
      "as\n",
      "passing\n",
      ",\n",
      "setting\n",
      ",\n",
      "specialized\n",
      "player\n",
      "positions\n",
      ",\n",
      "and\n",
      "offensive\n",
      "and\n",
      "defensive\n",
      "structures.[5\n",
      "]\n"
     ]
    }
   ],
   "source": [
    "for word in tokens:\n",
    "    print(word)"
   ]
  },
  {
   "cell_type": "markdown",
   "metadata": {},
   "source": [
    "# stemming and lametization"
   ]
  },
  {
   "cell_type": "markdown",
   "metadata": {},
   "source": [
    "stem - root word, no dic some algorithm only, faster but no accurate, only algo no dictionary\n",
    "lemmatization - root word, they maintain a dictionary so the words are from dictionary, slow but accurate, traverses a dictionary"
   ]
  },
  {
   "cell_type": "code",
   "execution_count": 324,
   "metadata": {},
   "outputs": [],
   "source": [
    "from nltk .stem import PorterStemmer"
   ]
  },
  {
   "cell_type": "code",
   "execution_count": 325,
   "metadata": {},
   "outputs": [],
   "source": [
    "def stemming(text):\n",
    "    obj = PorterStemmer()\n",
    "\n",
    "    stem_word = [obj.stem(word) for word in text.split()]\n",
    "    return stem_word"
   ]
  },
  {
   "cell_type": "code",
   "execution_count": 326,
   "metadata": {},
   "outputs": [
    {
     "data": {
      "text/plain": [
       "['volleybal',\n",
       " 'is',\n",
       " 'a',\n",
       " 'team',\n",
       " 'sport',\n",
       " 'in',\n",
       " 'which',\n",
       " 'two',\n",
       " 'team',\n",
       " 'of',\n",
       " 'six',\n",
       " 'player',\n",
       " 'are',\n",
       " 'separ',\n",
       " 'by',\n",
       " 'a',\n",
       " 'net.',\n",
       " 'each',\n",
       " 'team',\n",
       " 'tri',\n",
       " 'to',\n",
       " 'score',\n",
       " 'point',\n",
       " 'by',\n",
       " 'ground',\n",
       " 'a',\n",
       " 'ball',\n",
       " 'on',\n",
       " 'the',\n",
       " 'other',\n",
       " \"team'\",\n",
       " 'court',\n",
       " 'under',\n",
       " 'organ',\n",
       " 'rules.[1]',\n",
       " 'it',\n",
       " 'ha',\n",
       " 'been',\n",
       " 'a',\n",
       " 'part',\n",
       " 'of',\n",
       " 'the',\n",
       " 'offici',\n",
       " 'program',\n",
       " 'of',\n",
       " 'the',\n",
       " 'summer',\n",
       " 'olymp',\n",
       " 'game',\n",
       " 'sinc',\n",
       " 'tokyo',\n",
       " '1964.',\n",
       " 'beach',\n",
       " 'volleybal',\n",
       " 'wa',\n",
       " 'introduc',\n",
       " 'to',\n",
       " 'the',\n",
       " 'programm',\n",
       " 'at',\n",
       " 'the',\n",
       " 'atlanta',\n",
       " '1996',\n",
       " 'summer',\n",
       " 'olympics.',\n",
       " 'the',\n",
       " 'adapt',\n",
       " 'version',\n",
       " 'of',\n",
       " 'volleybal',\n",
       " 'at',\n",
       " 'the',\n",
       " 'summer',\n",
       " 'paralymp',\n",
       " 'game',\n",
       " 'is',\n",
       " 'sit',\n",
       " 'volleyball.',\n",
       " 'the',\n",
       " 'complet',\n",
       " 'set',\n",
       " 'of',\n",
       " 'rule',\n",
       " 'is',\n",
       " 'extensive,[2]',\n",
       " 'but',\n",
       " 'play',\n",
       " 'essenti',\n",
       " 'proce',\n",
       " 'as',\n",
       " 'follows:',\n",
       " 'a',\n",
       " 'player',\n",
       " 'on',\n",
       " 'one',\n",
       " 'of',\n",
       " 'the',\n",
       " 'team',\n",
       " 'begin',\n",
       " 'a',\n",
       " \"'rally'\",\n",
       " 'by',\n",
       " 'serv',\n",
       " 'the',\n",
       " 'ball',\n",
       " '(toss',\n",
       " 'or',\n",
       " 'releas',\n",
       " 'it',\n",
       " 'and',\n",
       " 'then',\n",
       " 'hit',\n",
       " 'it',\n",
       " 'with',\n",
       " 'a',\n",
       " 'hand',\n",
       " 'or',\n",
       " 'arm),',\n",
       " 'from',\n",
       " 'behind',\n",
       " 'the',\n",
       " 'back',\n",
       " 'boundari',\n",
       " 'line',\n",
       " 'of',\n",
       " 'the',\n",
       " 'court,',\n",
       " 'over',\n",
       " 'the',\n",
       " 'net,',\n",
       " 'and',\n",
       " 'into',\n",
       " 'the',\n",
       " 'receiv',\n",
       " \"team'\",\n",
       " 'court.[3]',\n",
       " 'the',\n",
       " 'receiv',\n",
       " 'team',\n",
       " 'must',\n",
       " 'not',\n",
       " 'let',\n",
       " 'the',\n",
       " 'ball',\n",
       " 'be',\n",
       " 'ground',\n",
       " 'within',\n",
       " 'their',\n",
       " 'court.',\n",
       " 'the',\n",
       " 'team',\n",
       " 'may',\n",
       " 'touch',\n",
       " 'the',\n",
       " 'ball',\n",
       " 'up',\n",
       " 'to',\n",
       " 'three',\n",
       " 'time',\n",
       " 'to',\n",
       " 'return',\n",
       " 'the',\n",
       " 'ball',\n",
       " 'to',\n",
       " 'the',\n",
       " 'other',\n",
       " 'side',\n",
       " 'of',\n",
       " 'the',\n",
       " 'court,',\n",
       " 'but',\n",
       " 'individu',\n",
       " 'player',\n",
       " 'may',\n",
       " 'not',\n",
       " 'touch',\n",
       " 'the',\n",
       " 'ball',\n",
       " 'twice',\n",
       " 'consecutively.[3]',\n",
       " 'typically,',\n",
       " 'the',\n",
       " 'first',\n",
       " 'two',\n",
       " 'touch',\n",
       " 'are',\n",
       " 'use',\n",
       " 'to',\n",
       " 'set',\n",
       " 'up',\n",
       " 'for',\n",
       " 'an',\n",
       " 'attack.',\n",
       " 'an',\n",
       " 'attack',\n",
       " 'is',\n",
       " 'an',\n",
       " 'attempt',\n",
       " 'to',\n",
       " 'direct',\n",
       " 'the',\n",
       " 'ball',\n",
       " 'back',\n",
       " 'over',\n",
       " 'the',\n",
       " 'net',\n",
       " 'in',\n",
       " 'such',\n",
       " 'a',\n",
       " 'way',\n",
       " 'that',\n",
       " 'the',\n",
       " 'team',\n",
       " 'receiv',\n",
       " 'the',\n",
       " 'ball',\n",
       " 'is',\n",
       " 'unabl',\n",
       " 'to',\n",
       " 'pass',\n",
       " 'the',\n",
       " 'ball',\n",
       " 'and',\n",
       " 'continu',\n",
       " 'the',\n",
       " 'rally,',\n",
       " 'thus,',\n",
       " 'lose',\n",
       " 'the',\n",
       " 'point.',\n",
       " 'the',\n",
       " 'team',\n",
       " 'that',\n",
       " 'win',\n",
       " 'the',\n",
       " 'ralli',\n",
       " 'is',\n",
       " 'award',\n",
       " 'a',\n",
       " 'point',\n",
       " 'and',\n",
       " 'serv',\n",
       " 'the',\n",
       " 'ball',\n",
       " 'to',\n",
       " 'start',\n",
       " 'the',\n",
       " 'next',\n",
       " 'rally.',\n",
       " 'a',\n",
       " 'few',\n",
       " 'of',\n",
       " 'the',\n",
       " 'most',\n",
       " 'common',\n",
       " 'fault',\n",
       " 'include:',\n",
       " 'caus',\n",
       " 'the',\n",
       " 'ball',\n",
       " 'to',\n",
       " 'touch',\n",
       " 'the',\n",
       " 'ground',\n",
       " 'or',\n",
       " 'floor',\n",
       " 'outsid',\n",
       " 'the',\n",
       " \"opponents'\",\n",
       " 'court',\n",
       " 'or',\n",
       " 'without',\n",
       " 'first',\n",
       " 'pass',\n",
       " 'over',\n",
       " 'the',\n",
       " 'net;',\n",
       " 'catch',\n",
       " 'and',\n",
       " 'throw',\n",
       " 'the',\n",
       " 'ball;',\n",
       " 'doubl',\n",
       " 'hit:',\n",
       " 'two',\n",
       " 'consecut',\n",
       " 'contact',\n",
       " 'with',\n",
       " 'the',\n",
       " 'ball',\n",
       " 'made',\n",
       " 'by',\n",
       " 'the',\n",
       " 'same',\n",
       " 'player;',\n",
       " 'four',\n",
       " 'consecut',\n",
       " 'contact',\n",
       " 'with',\n",
       " 'the',\n",
       " 'ball',\n",
       " 'made',\n",
       " 'by',\n",
       " 'the',\n",
       " 'same',\n",
       " 'team;',\n",
       " 'net',\n",
       " 'foul:',\n",
       " 'touch',\n",
       " 'the',\n",
       " 'net',\n",
       " 'dure',\n",
       " 'play;',\n",
       " 'foot',\n",
       " 'fault:',\n",
       " 'the',\n",
       " 'foot',\n",
       " 'cross',\n",
       " 'over',\n",
       " 'the',\n",
       " 'boundari',\n",
       " 'line',\n",
       " 'when',\n",
       " 'serv',\n",
       " 'or',\n",
       " 'under',\n",
       " 'the',\n",
       " 'net',\n",
       " 'when',\n",
       " 'a',\n",
       " 'front',\n",
       " 'row',\n",
       " 'player',\n",
       " 'is',\n",
       " 'tri',\n",
       " 'to',\n",
       " 'keep',\n",
       " 'the',\n",
       " 'ball',\n",
       " 'in',\n",
       " 'play.',\n",
       " 'the',\n",
       " 'ball',\n",
       " 'is',\n",
       " 'usual',\n",
       " 'play',\n",
       " 'with',\n",
       " 'the',\n",
       " 'hand',\n",
       " 'or',\n",
       " 'arms,',\n",
       " 'but',\n",
       " 'player',\n",
       " 'can',\n",
       " 'legal',\n",
       " 'strike',\n",
       " 'or',\n",
       " 'push',\n",
       " '(short',\n",
       " 'contact)',\n",
       " 'the',\n",
       " 'ball',\n",
       " 'with',\n",
       " 'ani',\n",
       " 'part',\n",
       " 'of',\n",
       " 'the',\n",
       " 'body.[4]',\n",
       " 'a',\n",
       " 'number',\n",
       " 'of',\n",
       " 'consist',\n",
       " 'techniqu',\n",
       " 'have',\n",
       " 'evolv',\n",
       " 'in',\n",
       " 'volleyball,',\n",
       " 'includ',\n",
       " 'spike',\n",
       " 'and',\n",
       " 'block',\n",
       " '(becaus',\n",
       " 'these',\n",
       " 'play',\n",
       " 'are',\n",
       " 'made',\n",
       " 'abov',\n",
       " 'the',\n",
       " 'top',\n",
       " 'of',\n",
       " 'the',\n",
       " 'net,',\n",
       " 'the',\n",
       " 'vertic',\n",
       " 'jump',\n",
       " 'is',\n",
       " 'an',\n",
       " 'athlet',\n",
       " 'skill',\n",
       " 'emphas',\n",
       " 'in',\n",
       " 'the',\n",
       " 'sport)',\n",
       " 'as',\n",
       " 'well',\n",
       " 'as',\n",
       " 'passing,',\n",
       " 'setting,',\n",
       " 'special',\n",
       " 'player',\n",
       " 'positions,',\n",
       " 'and',\n",
       " 'offens',\n",
       " 'and',\n",
       " 'defens',\n",
       " 'structures.[5]']"
      ]
     },
     "execution_count": 326,
     "metadata": {},
     "output_type": "execute_result"
    }
   ],
   "source": [
    "stemming(big_text)"
   ]
  },
  {
   "cell_type": "code",
   "execution_count": 333,
   "metadata": {},
   "outputs": [
    {
     "name": "stderr",
     "output_type": "stream",
     "text": [
      "[nltk_data] Downloading package wordnet to\n",
      "[nltk_data]     C:\\Users\\mesuv\\AppData\\Roaming\\nltk_data...\n"
     ]
    }
   ],
   "source": [
    "from nltk.stem import WordNetLemmatizer\n",
    "nltk.download('wordnet')\n",
    "\n",
    "def lammatization(text):\n",
    "    words = text.split()\n",
    "\n",
    "    lemmatizer = WordNetLemmatizer()\n",
    "\n",
    "    lametized_word = [lemmatizer.lemmatize(word) for word in words]\n",
    "    return lametized_word"
   ]
  },
  {
   "cell_type": "code",
   "execution_count": 334,
   "metadata": {},
   "outputs": [
    {
     "data": {
      "text/plain": [
       "['Volleyball',\n",
       " 'is',\n",
       " 'a',\n",
       " 'team',\n",
       " 'sport',\n",
       " 'in',\n",
       " 'which',\n",
       " 'two',\n",
       " 'team',\n",
       " 'of',\n",
       " 'six',\n",
       " 'player',\n",
       " 'are',\n",
       " 'separated',\n",
       " 'by',\n",
       " 'a',\n",
       " 'net.',\n",
       " 'Each',\n",
       " 'team',\n",
       " 'try',\n",
       " 'to',\n",
       " 'score',\n",
       " 'point',\n",
       " 'by',\n",
       " 'grounding',\n",
       " 'a',\n",
       " 'ball',\n",
       " 'on',\n",
       " 'the',\n",
       " 'other',\n",
       " \"team's\",\n",
       " 'court',\n",
       " 'under',\n",
       " 'organized',\n",
       " 'rules.[1]',\n",
       " 'It',\n",
       " 'ha',\n",
       " 'been',\n",
       " 'a',\n",
       " 'part',\n",
       " 'of',\n",
       " 'the',\n",
       " 'official',\n",
       " 'program',\n",
       " 'of',\n",
       " 'the',\n",
       " 'Summer',\n",
       " 'Olympic',\n",
       " 'Games',\n",
       " 'since',\n",
       " 'Tokyo',\n",
       " '1964.',\n",
       " 'Beach',\n",
       " 'volleyball',\n",
       " 'wa',\n",
       " 'introduced',\n",
       " 'to',\n",
       " 'the',\n",
       " 'programme',\n",
       " 'at',\n",
       " 'the',\n",
       " 'Atlanta',\n",
       " '1996',\n",
       " 'Summer',\n",
       " 'Olympics.',\n",
       " 'The',\n",
       " 'adapted',\n",
       " 'version',\n",
       " 'of',\n",
       " 'volleyball',\n",
       " 'at',\n",
       " 'the',\n",
       " 'Summer',\n",
       " 'Paralympic',\n",
       " 'Games',\n",
       " 'is',\n",
       " 'sitting',\n",
       " 'volleyball.',\n",
       " 'The',\n",
       " 'complete',\n",
       " 'set',\n",
       " 'of',\n",
       " 'rule',\n",
       " 'is',\n",
       " 'extensive,[2]',\n",
       " 'but',\n",
       " 'play',\n",
       " 'essentially',\n",
       " 'proceeds',\n",
       " 'a',\n",
       " 'follows:',\n",
       " 'a',\n",
       " 'player',\n",
       " 'on',\n",
       " 'one',\n",
       " 'of',\n",
       " 'the',\n",
       " 'team',\n",
       " 'begin',\n",
       " 'a',\n",
       " \"'rally'\",\n",
       " 'by',\n",
       " 'serving',\n",
       " 'the',\n",
       " 'ball',\n",
       " '(tossing',\n",
       " 'or',\n",
       " 'releasing',\n",
       " 'it',\n",
       " 'and',\n",
       " 'then',\n",
       " 'hitting',\n",
       " 'it',\n",
       " 'with',\n",
       " 'a',\n",
       " 'hand',\n",
       " 'or',\n",
       " 'arm),',\n",
       " 'from',\n",
       " 'behind',\n",
       " 'the',\n",
       " 'back',\n",
       " 'boundary',\n",
       " 'line',\n",
       " 'of',\n",
       " 'the',\n",
       " 'court,',\n",
       " 'over',\n",
       " 'the',\n",
       " 'net,',\n",
       " 'and',\n",
       " 'into',\n",
       " 'the',\n",
       " 'receiving',\n",
       " \"team's\",\n",
       " 'court.[3]',\n",
       " 'The',\n",
       " 'receiving',\n",
       " 'team',\n",
       " 'must',\n",
       " 'not',\n",
       " 'let',\n",
       " 'the',\n",
       " 'ball',\n",
       " 'be',\n",
       " 'grounded',\n",
       " 'within',\n",
       " 'their',\n",
       " 'court.',\n",
       " 'The',\n",
       " 'team',\n",
       " 'may',\n",
       " 'touch',\n",
       " 'the',\n",
       " 'ball',\n",
       " 'up',\n",
       " 'to',\n",
       " 'three',\n",
       " 'time',\n",
       " 'to',\n",
       " 'return',\n",
       " 'the',\n",
       " 'ball',\n",
       " 'to',\n",
       " 'the',\n",
       " 'other',\n",
       " 'side',\n",
       " 'of',\n",
       " 'the',\n",
       " 'court,',\n",
       " 'but',\n",
       " 'individual',\n",
       " 'player',\n",
       " 'may',\n",
       " 'not',\n",
       " 'touch',\n",
       " 'the',\n",
       " 'ball',\n",
       " 'twice',\n",
       " 'consecutively.[3]',\n",
       " 'Typically,',\n",
       " 'the',\n",
       " 'first',\n",
       " 'two',\n",
       " 'touch',\n",
       " 'are',\n",
       " 'used',\n",
       " 'to',\n",
       " 'set',\n",
       " 'up',\n",
       " 'for',\n",
       " 'an',\n",
       " 'attack.',\n",
       " 'An',\n",
       " 'attack',\n",
       " 'is',\n",
       " 'an',\n",
       " 'attempt',\n",
       " 'to',\n",
       " 'direct',\n",
       " 'the',\n",
       " 'ball',\n",
       " 'back',\n",
       " 'over',\n",
       " 'the',\n",
       " 'net',\n",
       " 'in',\n",
       " 'such',\n",
       " 'a',\n",
       " 'way',\n",
       " 'that',\n",
       " 'the',\n",
       " 'team',\n",
       " 'receiving',\n",
       " 'the',\n",
       " 'ball',\n",
       " 'is',\n",
       " 'unable',\n",
       " 'to',\n",
       " 'pas',\n",
       " 'the',\n",
       " 'ball',\n",
       " 'and',\n",
       " 'continue',\n",
       " 'the',\n",
       " 'rally,',\n",
       " 'thus,',\n",
       " 'losing',\n",
       " 'the',\n",
       " 'point.',\n",
       " 'The',\n",
       " 'team',\n",
       " 'that',\n",
       " 'win',\n",
       " 'the',\n",
       " 'rally',\n",
       " 'is',\n",
       " 'awarded',\n",
       " 'a',\n",
       " 'point',\n",
       " 'and',\n",
       " 'serf',\n",
       " 'the',\n",
       " 'ball',\n",
       " 'to',\n",
       " 'start',\n",
       " 'the',\n",
       " 'next',\n",
       " 'rally.',\n",
       " 'A',\n",
       " 'few',\n",
       " 'of',\n",
       " 'the',\n",
       " 'most',\n",
       " 'common',\n",
       " 'fault',\n",
       " 'include:',\n",
       " 'causing',\n",
       " 'the',\n",
       " 'ball',\n",
       " 'to',\n",
       " 'touch',\n",
       " 'the',\n",
       " 'ground',\n",
       " 'or',\n",
       " 'floor',\n",
       " 'outside',\n",
       " 'the',\n",
       " \"opponents'\",\n",
       " 'court',\n",
       " 'or',\n",
       " 'without',\n",
       " 'first',\n",
       " 'passing',\n",
       " 'over',\n",
       " 'the',\n",
       " 'net;',\n",
       " 'catching',\n",
       " 'and',\n",
       " 'throwing',\n",
       " 'the',\n",
       " 'ball;',\n",
       " 'double',\n",
       " 'hit:',\n",
       " 'two',\n",
       " 'consecutive',\n",
       " 'contact',\n",
       " 'with',\n",
       " 'the',\n",
       " 'ball',\n",
       " 'made',\n",
       " 'by',\n",
       " 'the',\n",
       " 'same',\n",
       " 'player;',\n",
       " 'four',\n",
       " 'consecutive',\n",
       " 'contact',\n",
       " 'with',\n",
       " 'the',\n",
       " 'ball',\n",
       " 'made',\n",
       " 'by',\n",
       " 'the',\n",
       " 'same',\n",
       " 'team;',\n",
       " 'net',\n",
       " 'foul:',\n",
       " 'touching',\n",
       " 'the',\n",
       " 'net',\n",
       " 'during',\n",
       " 'play;',\n",
       " 'foot',\n",
       " 'fault:',\n",
       " 'the',\n",
       " 'foot',\n",
       " 'cross',\n",
       " 'over',\n",
       " 'the',\n",
       " 'boundary',\n",
       " 'line',\n",
       " 'when',\n",
       " 'serving',\n",
       " 'or',\n",
       " 'under',\n",
       " 'the',\n",
       " 'net',\n",
       " 'when',\n",
       " 'a',\n",
       " 'front',\n",
       " 'row',\n",
       " 'player',\n",
       " 'is',\n",
       " 'trying',\n",
       " 'to',\n",
       " 'keep',\n",
       " 'the',\n",
       " 'ball',\n",
       " 'in',\n",
       " 'play.',\n",
       " 'The',\n",
       " 'ball',\n",
       " 'is',\n",
       " 'usually',\n",
       " 'played',\n",
       " 'with',\n",
       " 'the',\n",
       " 'hand',\n",
       " 'or',\n",
       " 'arms,',\n",
       " 'but',\n",
       " 'player',\n",
       " 'can',\n",
       " 'legally',\n",
       " 'strike',\n",
       " 'or',\n",
       " 'push',\n",
       " '(short',\n",
       " 'contact)',\n",
       " 'the',\n",
       " 'ball',\n",
       " 'with',\n",
       " 'any',\n",
       " 'part',\n",
       " 'of',\n",
       " 'the',\n",
       " 'body.[4]',\n",
       " 'A',\n",
       " 'number',\n",
       " 'of',\n",
       " 'consistent',\n",
       " 'technique',\n",
       " 'have',\n",
       " 'evolved',\n",
       " 'in',\n",
       " 'volleyball,',\n",
       " 'including',\n",
       " 'spiking',\n",
       " 'and',\n",
       " 'blocking',\n",
       " '(because',\n",
       " 'these',\n",
       " 'play',\n",
       " 'are',\n",
       " 'made',\n",
       " 'above',\n",
       " 'the',\n",
       " 'top',\n",
       " 'of',\n",
       " 'the',\n",
       " 'net,',\n",
       " 'the',\n",
       " 'vertical',\n",
       " 'jump',\n",
       " 'is',\n",
       " 'an',\n",
       " 'athletic',\n",
       " 'skill',\n",
       " 'emphasized',\n",
       " 'in',\n",
       " 'the',\n",
       " 'sport)',\n",
       " 'a',\n",
       " 'well',\n",
       " 'a',\n",
       " 'passing,',\n",
       " 'setting,',\n",
       " 'specialized',\n",
       " 'player',\n",
       " 'positions,',\n",
       " 'and',\n",
       " 'offensive',\n",
       " 'and',\n",
       " 'defensive',\n",
       " 'structures.[5]']"
      ]
     },
     "execution_count": 334,
     "metadata": {},
     "output_type": "execute_result"
    }
   ],
   "source": [
    "lammatization(big_text)"
   ]
  },
  {
   "cell_type": "code",
   "execution_count": null,
   "metadata": {},
   "outputs": [],
   "source": []
  }
 ],
 "metadata": {
  "kernelspec": {
   "display_name": "Python 3",
   "language": "python",
   "name": "python3"
  },
  "language_info": {
   "codemirror_mode": {
    "name": "ipython",
    "version": 3
   },
   "file_extension": ".py",
   "mimetype": "text/x-python",
   "name": "python",
   "nbconvert_exporter": "python",
   "pygments_lexer": "ipython3",
   "version": "3.12.2"
  }
 },
 "nbformat": 4,
 "nbformat_minor": 2
}
